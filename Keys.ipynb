{
 "cells": [
  {
   "cell_type": "code",
   "execution_count": 1,
   "id": "086b5154",
   "metadata": {},
   "outputs": [],
   "source": [
    "import json\n",
    "import os"
   ]
  },
  {
   "cell_type": "code",
   "execution_count": 2,
   "id": "2856219a",
   "metadata": {},
   "outputs": [],
   "source": [
    "Quote_Outlier_Dict = {'hhid' : 'key',\n",
    "                      'qtever' : 'numeric',\n",
    "                      'premium' : 'numeric',\n",
    "                      'policy_term' : 'categorical',\n",
    "                      'agent_type' : 'categorical',\n",
    "                      'policy_state' : 'ignore',\n",
    "                      'bill_mode' : 'categorical',\n",
    "                      'company' : 'catgorical',\n",
    "                      'mcd' : 'categorical',\n",
    "                      'occupation_discount' : 'categorical',\n",
    "                      'sdd' : 'categorical',\n",
    "                      'gdd' : 'categorical',\n",
    "                      'gsd' : 'categorical',\n",
    "                      'bi_limit' : 'categorical',\n",
    "                      'pd_limit' : 'numeric',\n",
    "                      'comp_ded' : 'numeric',\n",
    "                      'coll_ded' : 'numeric',\n",
    "                      'zipcode' : 'key',\n",
    "                      'zip_code' : 'key',\n",
    "                      'estimation_year' : 'ignore',\n",
    "                      'median_age' : 'ignore',\n",
    "                      'total_population' : 'ignore',\n",
    "                      'mean_property_value' : 'ignore',\n",
    "                      'mean_household_income' : 'ignore',\n",
    "                      'population_density' : 'ignore',\n",
    "                      'advance_quote_discount' : 'categorical',\n",
    "                      'vehicles' : 'numeric',\n",
    "                      'drivers' : 'numeric' ,\n",
    "                      'incident_group' : 'categorical',\n",
    "                      'chargeable13' : 'numeric',\n",
    "                      'chargeable45' : 'numeric',\n",
    "                      'prior_bi' : 'categorical',\n",
    "                      'married' : 'categorical',\n",
    "                      'male' : 'categorical',\n",
    "                      'female' :'categorical',\n",
    "                      'mpd' : 'categorical',\n",
    "                      'cbrscore' : 'numeric',\n",
    "                      'accesstovehicleind' : 'categorical',\n",
    "                      'activedutyalertind' : 'categorical',\n",
    "                      'arrestedorconvicted' : 'categorical',\n",
    "                      'awayatschoolind' : 'categorical',\n",
    "                      'dateofbirth' : 'date',\n",
    "                      'defensivedrivcourseind' : 'categorical',\n",
    "                      'distancetoschool' : 'categorical',\n",
    "                      'educationstatus' : 'categorical',\n",
    "                      'engagedind' : 'categorical',\n",
    "                      'fulltimestudent' : 'categorical',\n",
    "                      'gender' : 'categorical',\n",
    "                      'goodstudentcert' : 'categorical',\n",
    "                      'gradepointavg' : 'categorical',\n",
    "                      'identitytheftvictimalertind' : 'categorical',\n",
    "                      'licensestate' : 'ignore',\n",
    "                      'occupation' : 'categorical',\n",
    "                      'operatorstatus' : 'categorical',\n",
    "                      'personsage' : 'numeric',\n",
    "                      'ratinganalysisoperatorclasscode' : 'categorical',\n",
    "                      'relationship' : 'categorical',\n",
    "                      'retiredind' : 'categorical',\n",
    "                      'yearslicensed' : 'numeric',\n",
    "                      'annualmileage' : 'numeric',\n",
    "                      'antilockbrakedevicecd' : 'categorical',\n",
    "                      'assignablevehind' : 'categorical',\n",
    "                      'bipdsymbol' : 'numeric',\n",
    "                      'collisiondeductible' : 'categorical',\n",
    "                      'collisionsymbol' : 'numeric',\n",
    "                      'communicationdeviceind' : 'categorical',\n",
    "                      'comprehensivedeductible' : 'categorical',\n",
    "                      'compsymbol' : 'numeric',\n",
    "                      'emergencyroadservice' : 'categorical',\n",
    "                      'excessvehind' : 'categorical',\n",
    "                      'factoryantitheftdeviceind' : 'categorical',\n",
    "                      'highperformanceind' : 'categorical',\n",
    "                      'makeliteral' : 'categorical',\n",
    "                      'medpipsymbol' : 'numeric',\n",
    "                      'mileagetowork' : 'numeric',\n",
    "                      'modelyear' : 'numeric',\n",
    "                      'safetyglass' : 'categorical',\n",
    "                      'schoolchildrentransportation' : 'categorical',\n",
    "                      'seasonalvehind' : 'categorical',\n",
    "                      'snowplowliability' : 'categorical',\n",
    "                      'usecd' : 'categorical',\n",
    "                      'vehiclecategory' : 'categorical',\n",
    "                      'vehicleownership' : 'categorical',\n",
    "                      'vehicletype' : 'categorical',\n",
    "                      'weeklytowork' : 'numeric',\n",
    "                      'underinsuredmotoristspropertydamagelimit' : 'categorical',\n",
    "                      'uninsuredmotoristspropertydamagedeductible' : 'categorical',\n",
    "                      'uninsuredmotoristspropertydamageind' : 'categorical',\n",
    "                      'estimation_year' : 'categorical',\n",
    "                      'median_age' : 'numeric',\n",
    "                      'total_population' : 'numeric',\n",
    "                      'median_property_value' : 'numeric',\n",
    "                      'median_household_income' : 'numeric',\n",
    "                      'population_density' : 'numeric',\n",
    "                      'trans_tracking_nbr' : 'key',\n",
    "                      'clientid' : 'key',\n",
    "                      'residentoperatorlink' : 'key',\n",
    "                      'primaryoperatorlink' : 'key',\n",
    "                      'ratedoperatorlink' : 'key',\n",
    "                      'effdate' : 'date',\n",
    "                      'effective_year' : 'numeric'\n",
    "                      }"
   ]
  },
  {
   "cell_type": "code",
   "execution_count": 3,
   "id": "30c1f159",
   "metadata": {},
   "outputs": [],
   "source": [
    "census_dataset = \"census\"\n",
    "census_continous = [\"median_age\",\"total_population\",\"median_property_value\",\n",
    "                    \"median_household_income\",\"population_density\",\"estimation_year\"]\n",
    "census_other = [\"zip_code\"]\n",
    "census_discrete = []\n",
    "census_key = []"
   ]
  },
  {
   "cell_type": "code",
   "execution_count": 4,
   "id": "57200ced",
   "metadata": {},
   "outputs": [],
   "source": [
    "vehicle_dataset = \"vehicle_level\"\n",
    "vehicle_continous = [\"annualmileage\",\"bipdsymbol\",\"collisionsymbol\",\"compsymbol\",\n",
    "                     \"medpipsymbol\",\"mileagetowork\",\"weeklytowork\",\n",
    "                    \"underinsuredmotoristspropertydamagelimit\"]\n",
    "vehicle_other = [\"antilockbrakedevicecd\",\"bodystyle\",\"makecode\",\"modelliteral\", \"make\", \"model\", \"modelcode\", \"modelyear\"]\n",
    "vehicle_discrete = [\"assignablevehind\",\"collisiondeductible\",\"communicationdeviceind\",\n",
    "                    \"comprehensivedeductible\",\"emergencyroadservice\",\"excessvehind\",\n",
    "                    \"factoryantitheftdeviceind\",\"highperformanceind\",\n",
    "                    \"safetyglass\",\"schoolchildrentransportation\",\"seasonalvehind\",\"snowplowliability\",\n",
    "                   \"usecd\",\"vehiclecategory\",\"vehicleownership\",\"vehicletype\",\n",
    "                    \"uninsuredmotoristspropertydamagedeductible\",\"uninsuredmotoristspropertydamageind\",\"makeliteral\"]\n",
    "vehicle_key = [\"trans_tracking_nbr\",\"primaryoperatorlink\",\"ratedoperatorlink\"]"
   ]
  },
  {
   "cell_type": "code",
   "execution_count": 5,
   "id": "fb84ab55",
   "metadata": {},
   "outputs": [],
   "source": [
    "operator_dataset = \"operator_level\"\n",
    "operator_continous = [\"personsage\",\"yearslicensed\"]\n",
    "operator_other = [\"dateofbirth\",\"ratinganalysisoperatorclasscode\",\"licensestate\"]\n",
    "operator_discrete = [\"distancetoschool\", \"accesstovehicleind\",\"activedutyalertind\",\"arrestedorconvicted\",\n",
    "                    \"awayatschoolind\",\"defensivedrivcourseind\",\"educationstatus\",\"engagedind\",\n",
    "                   \"fulltimestudent\",\"gender\",\"goodstudentcert\",\"gradepointavg\",\"identitytheftvictimalertind\",\n",
    "                   \"occupation\",\"operatorstatus\",\"relationship\",\"retiredind\"]\n",
    "operator_key = [\"trans_tracking_nbr\",\"clientid\",\"residentoperatorlink\"]"
   ]
  },
  {
   "cell_type": "code",
   "execution_count": 6,
   "id": "734029a0",
   "metadata": {},
   "outputs": [
    {
     "name": "stdout",
     "output_type": "stream",
     "text": [
      "68\n"
     ]
    }
   ],
   "source": [
    "quote_level = \"quote_level\"\n",
    "quote_level_continous = [\"qtever\",\n",
    "                        \"premium\",\"age_youngest_driver\",\n",
    "                        \"pd_limit\",\"newest_vehicle\",\"oldest_vehicle\",\n",
    "                        \"vehicles\",\"age_oldest_driver\",\"drivers\",\"chargeable13\",\"chargeable45\",\n",
    "                         \"cbrscore\",\"cbr\"]\n",
    "quote_level_other = [\"effdate\",\"zipcode\", \"open_year_month\",\"open_day_current\", \"open_month_current\", \"open_year_current\",\"rateset\"\n",
    "                    ,\"duplicate_clientid?\",\"territory\", \"district\",\"policy_state\",\"office_state\"]\n",
    "quote_level_discrete = [\"requote\",\"policy_term\",\"tenuretype\",\"tenuresub\",\n",
    "                       \"agent_type\",\"office_name\",\"quoteloc\",\"bill_mode\",\n",
    "                       \"company\",\"rateplan\",\"upp\",\"occupation_discount\",\"sdd\",\"nvd\",\"lcd\",\"gdd\",\"gsd\",\"grad\",\n",
    "                       \"bi_limit\",\"comp_ded\",\"coll_ded\",\"pleasure_only\",\"keeper\",\"advance_quote_discount\",\n",
    "                       \"dtc\",\"incident_group\",\"prior_bi\",\"married\",\"male\",\"female\",\"mpd\",\n",
    "                       \"farm_use\",\"large_farm_truck\",\"mulq\", \"autopay\", \"atd\",\"ddd\",\"ecd\",\"mcd\", \"semi_farm_truck\"]\n",
    "quote_level_key = [\"hhid\",\"trans_tracking_nbr\", \"Year\"]\n",
    "print(len(quote_level_continous) + len(quote_level_other) + len(quote_level_discrete) + len(quote_level_key))"
   ]
  },
  {
   "cell_type": "code",
   "execution_count": 7,
   "id": "0e278a29",
   "metadata": {},
   "outputs": [],
   "source": [
    "total_info = [(census_dataset,census_continous,census_other,census_discrete,census_key),\n",
    " (vehicle_dataset,vehicle_continous,vehicle_other,vehicle_discrete,vehicle_key),\n",
    " (operator_dataset,operator_continous,operator_other,operator_discrete,operator_key),\n",
    " (quote_level,quote_level_continous,quote_level_other,quote_level_discrete,quote_level_key)]"
   ]
  },
  {
   "cell_type": "code",
   "execution_count": 8,
   "id": "3b114663",
   "metadata": {},
   "outputs": [
    {
     "name": "stdout",
     "output_type": "stream",
     "text": [
      "{'qtever': 'continuous', 'premium': 'continuous', 'age_youngest_driver': 'continuous', 'pd_limit': 'continuous', 'newest_vehicle': 'continuous', 'oldest_vehicle': 'continuous', 'vehicles': 'continuous', 'age_oldest_driver': 'continuous', 'drivers': 'continuous', 'chargeable13': 'continuous', 'chargeable45': 'continuous', 'cbrscore': 'continuous', 'cbr': 'continuous', 'effdate': 'other', 'zipcode': 'other', 'open_year_month': 'other', 'open_day_current': 'other', 'open_month_current': 'other', 'open_year_current': 'other', 'rateset': 'other', 'duplicate_clientid?': 'other', 'territory': 'other', 'district': 'other', 'policy_state': 'other', 'office_state': 'other', 'requote': 'discrete', 'policy_term': 'discrete', 'tenuretype': 'discrete', 'tenuresub': 'discrete', 'agent_type': 'discrete', 'office_name': 'discrete', 'quoteloc': 'discrete', 'bill_mode': 'discrete', 'company': 'discrete', 'rateplan': 'discrete', 'upp': 'discrete', 'occupation_discount': 'discrete', 'sdd': 'discrete', 'nvd': 'discrete', 'lcd': 'discrete', 'gdd': 'discrete', 'gsd': 'discrete', 'grad': 'discrete', 'bi_limit': 'discrete', 'comp_ded': 'discrete', 'coll_ded': 'discrete', 'pleasure_only': 'discrete', 'keeper': 'discrete', 'advance_quote_discount': 'discrete', 'dtc': 'discrete', 'incident_group': 'discrete', 'prior_bi': 'discrete', 'married': 'discrete', 'male': 'discrete', 'female': 'discrete', 'mpd': 'discrete', 'farm_use': 'discrete', 'large_farm_truck': 'discrete', 'mulq': 'discrete', 'autopay': 'discrete', 'atd': 'discrete', 'ddd': 'discrete', 'ecd': 'discrete', 'mcd': 'discrete', 'semi_farm_truck': 'discrete', 'hhid': 'key', 'trans_tracking_nbr': 'key', 'Year': 'key'}\n"
     ]
    }
   ],
   "source": [
    "for dataset_name, continous, other, discrete, key in total_info:\n",
    "    #if dataset_name == \"quote_level\":\n",
    "    #    print(discrete)\n",
    "    data_json = dict()\n",
    "    \n",
    "    for val in continous:\n",
    "        data_json[val] = \"continuous\"\n",
    "    for val in other:\n",
    "        data_json[val] = \"other\"\n",
    "    for val in discrete:\n",
    "        #if val == \"occupation_discount\":\n",
    "        #    print(val)\n",
    "        data_json[val] = \"discrete\"\n",
    "    for val in key:\n",
    "        data_json[val] = \"key\"\n",
    "    \n",
    "    if dataset_name == \"quote_level\":\n",
    "        print(data_json)\n",
    "    #out_file = open(os.path.join(\"col_types\",dataset_name + \"_dict.json\"), \"w\")\n",
    "    #json.dump(data_json, out_file)\n",
    "    #out_file.close()\n",
    "    \n",
    "    \n",
    "    with open(\"col_types/\" + dataset_name + \"_dict.json\", \"w\") as outfile:\n",
    "        json.dump(data_json, outfile)\n",
    "    \n",
    "    "
   ]
  },
  {
   "cell_type": "code",
   "execution_count": null,
   "id": "7f789b82",
   "metadata": {},
   "outputs": [],
   "source": []
  },
  {
   "cell_type": "code",
   "execution_count": null,
   "id": "ad7012e4",
   "metadata": {},
   "outputs": [],
   "source": []
  },
  {
   "cell_type": "code",
   "execution_count": null,
   "id": "23318645",
   "metadata": {},
   "outputs": [],
   "source": []
  },
  {
   "cell_type": "code",
   "execution_count": null,
   "id": "62f1488e",
   "metadata": {},
   "outputs": [],
   "source": []
  }
 ],
 "metadata": {
  "kernelspec": {
   "display_name": "Python 3",
   "language": "python",
   "name": "python3"
  },
  "language_info": {
   "codemirror_mode": {
    "name": "ipython",
    "version": 3
   },
   "file_extension": ".py",
   "mimetype": "text/x-python",
   "name": "python",
   "nbconvert_exporter": "python",
   "pygments_lexer": "ipython3",
   "version": "3.8.2"
  }
 },
 "nbformat": 4,
 "nbformat_minor": 5
}
